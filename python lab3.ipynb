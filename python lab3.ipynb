{
 "cells": [
  {
   "cell_type": "code",
   "execution_count": 1,
   "id": "e7156593-a47b-4370-a93c-e174e4d8c806",
   "metadata": {},
   "outputs": [],
   "source": [
    "# 1.Print the first 10 natural numbers using for loop"
   ]
  },
  {
   "cell_type": "code",
   "execution_count": 3,
   "id": "da874526-a26d-42a2-a4e0-3a1f7b940ea3",
   "metadata": {},
   "outputs": [
    {
     "name": "stdout",
     "output_type": "stream",
     "text": [
      "1\n",
      "2\n",
      "3\n",
      "4\n",
      "5\n",
      "6\n",
      "7\n",
      "8\n",
      "9\n",
      "10\n"
     ]
    }
   ],
   "source": [
    "for i in range(1,11):\n",
    "    print(i)"
   ]
  },
  {
   "cell_type": "code",
   "execution_count": 4,
   "id": "9d455df1-b0ca-4cc3-996f-2d54f66030a0",
   "metadata": {},
   "outputs": [],
   "source": [
    "# 2.Python program to check if the given string is a palindrome"
   ]
  },
  {
   "cell_type": "code",
   "execution_count": 5,
   "id": "11885083-8649-4d29-a8b5-0dcf1a33d0ee",
   "metadata": {},
   "outputs": [
    {
     "name": "stdin",
     "output_type": "stream",
     "text": [
      "Enter a string: Hello\n"
     ]
    },
    {
     "name": "stdout",
     "output_type": "stream",
     "text": [
      "\"Hello\" is not a palindrome.\n"
     ]
    }
   ],
   "source": [
    "def is_palindrome(s):\n",
    "    s = s.lower()\n",
    "    s = ''.join(char for char in s if char.isalnum())\n",
    "    return s == s[::-1]\n",
    "\n",
    "string = input(\"Enter a string:\")\n",
    "if is_palindrome(string):\n",
    "    print(f'\"{string}\" is a palindrome.')\n",
    "else:\n",
    "    print(f'\"{string}\" is not a palindrome.')\n",
    "    "
   ]
  },
  {
   "cell_type": "code",
   "execution_count": 6,
   "id": "d60dd831-2fca-426c-ba9e-086050667b96",
   "metadata": {},
   "outputs": [],
   "source": [
    "# 3.Python program to check if a given number is an Armstrong number"
   ]
  },
  {
   "cell_type": "code",
   "execution_count": 7,
   "id": "a588ec02-cb18-46cc-9580-1b2823dd0cc5",
   "metadata": {},
   "outputs": [
    {
     "name": "stdin",
     "output_type": "stream",
     "text": [
      "Enter a number: 153\n"
     ]
    },
    {
     "name": "stdout",
     "output_type": "stream",
     "text": [
      "153 is an armstrong number.\n"
     ]
    }
   ],
   "source": [
    "def is_armstrong(number):\n",
    "    num_str = str(number)\n",
    "    num_digits = len(num_str)\n",
    "    armstrong_sum = sum(int(digit) ** num_digits for digit in num_str)\n",
    "    return armstrong_sum == number\n",
    "\n",
    "number = int(input(\"Enter a number:\"))\n",
    "if is_armstrong(number):\n",
    "    print(f\"{number} is an armstrong number.\")\n",
    "else:\n",
    "    print(f\"{number} is not an armstrong number.\")"
   ]
  },
  {
   "cell_type": "code",
   "execution_count": 8,
   "id": "00323cf1-61c8-4e1d-b6b6-8b10002c9be3",
   "metadata": {},
   "outputs": [],
   "source": [
    "# 4.Python program to get the Fibonacci series between 0 to 50"
   ]
  },
  {
   "cell_type": "code",
   "execution_count": 9,
   "id": "88e32484-bb09-41bc-b627-814cddc7472c",
   "metadata": {},
   "outputs": [
    {
     "name": "stdout",
     "output_type": "stream",
     "text": [
      "Fibonacci series between o and 50:\n",
      "0112358132134"
     ]
    }
   ],
   "source": [
    "a, b = 0, 1\n",
    "print(\"Fibonacci series between o and 50:\")\n",
    "while a <= 50:\n",
    "    print(a, end='')\n",
    "    a, b = b, a + b"
   ]
  },
  {
   "cell_type": "code",
   "execution_count": 10,
   "id": "f71cd4de-17ff-46b0-97f6-c61c8a4ae6e8",
   "metadata": {},
   "outputs": [],
   "source": [
    "# 5.Python program to check the validity of password input by users"
   ]
  },
  {
   "cell_type": "code",
   "execution_count": 13,
   "id": "83a5f8a6-a512-4040-8b26-75c80820fbf8",
   "metadata": {},
   "outputs": [
    {
     "name": "stdin",
     "output_type": "stream",
     "text": [
      "Enter your password: 1@ Haiiw\n"
     ]
    },
    {
     "name": "stdout",
     "output_type": "stream",
     "text": [
      "Password is valid.\n"
     ]
    }
   ],
   "source": [
    "import re\n",
    "\n",
    "def validate_password(password):\n",
    "    if len(password) < 8:\n",
    "        return \"Password must be at least 8 characters long.\"\n",
    "    if not re.search(r'[A-Z]', password):\n",
    "        return \"Password must contain at least one uppercase letter.\"\n",
    "    if not re.search(r'[a-z]', password):\n",
    "        return \"Password must contain at least one lowercase letter.\"\n",
    "    if not re.search(r'\\d', password):\n",
    "        return \"Password must contain at least one digit.\"\n",
    "    if not re.search(r'[@#$%^&*(),.?\":{}|<>]', password):\n",
    "        return \"Password must contain at least one special character.\"\n",
    "    return \"Password is valid.\"\n",
    "\n",
    "password = input(\"Enter your password:\")\n",
    "result = validate_password(password)\n",
    "print(result)\n",
    "                     \n",
    "        "
   ]
  },
  {
   "cell_type": "code",
   "execution_count": 14,
   "id": "929a39a8-b9ec-4749-a70f-f8cdf97a85e7",
   "metadata": {},
   "outputs": [],
   "source": [
    "# 6.Write a python program to reverse a number using a while loop"
   ]
  },
  {
   "cell_type": "code",
   "execution_count": 15,
   "id": "7ee9c77a-4948-4115-88b1-35873db18fc2",
   "metadata": {},
   "outputs": [
    {
     "name": "stdin",
     "output_type": "stream",
     "text": [
      "Enter a number: 23347\n"
     ]
    },
    {
     "name": "stdout",
     "output_type": "stream",
     "text": [
      "The reversed number is: 74332\n"
     ]
    }
   ],
   "source": [
    "def reverse_number(number):\n",
    "    reversed_num = 0\n",
    "    while number > 0:\n",
    "        digit = number % 10\n",
    "        reversed_num = reversed_num * 10 + digit\n",
    "        number //= 10\n",
    "    return reversed_num\n",
    "\n",
    "num = int(input(\"Enter a number:\"))\n",
    "result = reverse_number(num)\n",
    "print(f\"The reversed number is: {result}\")"
   ]
  },
  {
   "cell_type": "code",
   "execution_count": 16,
   "id": "109601ea-2582-46ee-a73b-34e25cb8d666",
   "metadata": {},
   "outputs": [],
   "source": [
    "# 7.Write a python program to check whether a number is palindrome or not?"
   ]
  },
  {
   "cell_type": "code",
   "execution_count": 17,
   "id": "9892203d-c4d6-4c88-a3e8-f1253beb4c39",
   "metadata": {},
   "outputs": [
    {
     "name": "stdin",
     "output_type": "stream",
     "text": [
      "Enter a number:  99999\n"
     ]
    },
    {
     "name": "stdout",
     "output_type": "stream",
     "text": [
      "99999 is a palindrome.\n"
     ]
    }
   ],
   "source": [
    "def is_palindrome(number):\n",
    "    original_number = number\n",
    "    reversed_number = 0\n",
    "    while number > 0:\n",
    "        digit = number % 10\n",
    "        reversed_number = reversed_number * 10 + digit\n",
    "        number //= 10\n",
    "    return original_number == reversed_number\n",
    "\n",
    "num = int(input(\"Enter a number: \"))\n",
    "if is_palindrome(num):\n",
    "    print(f\"{num} is a palindrome.\")\n",
    "else:\n",
    "    print(f\"{num} is not a palindrome.\")"
   ]
  },
  {
   "cell_type": "code",
   "execution_count": 18,
   "id": "12a69cda-5171-4c05-b22e-62d286d6183c",
   "metadata": {},
   "outputs": [],
   "source": [
    "# 8.Write a python program finding the factorial of a given number using a while loop."
   ]
  },
  {
   "cell_type": "code",
   "execution_count": 20,
   "id": "9869c7eb-8316-4e06-a14c-a5054099f11f",
   "metadata": {},
   "outputs": [
    {
     "name": "stdin",
     "output_type": "stream",
     "text": [
      "Enter a number:  10\n"
     ]
    },
    {
     "name": "stdout",
     "output_type": "stream",
     "text": [
      "The factorial of 10 is: 3628800\n"
     ]
    }
   ],
   "source": [
    "def factorial(number):\n",
    "    if number < 0:\n",
    "        return \"Factorial is not defined for negative numbers.\"\n",
    "    elif number == 0 or number == 1:\n",
    "        return 1\n",
    "    result = 1\n",
    "    while number > 1:\n",
    "        result *= number\n",
    "        number -= 1\n",
    "    return result\n",
    "\n",
    "num = int(input(\"Enter a number: \"))\n",
    "fact = factorial(num)\n",
    "print(f\"The factorial of {num} is: {fact}\")\n",
    "    "
   ]
  },
  {
   "cell_type": "code",
   "execution_count": 21,
   "id": "d43acff0-674c-441a-947f-e243bf73125f",
   "metadata": {},
   "outputs": [],
   "source": [
    "# 9.Accept numbers using input() function until the user enters 0. If user input 0 then break the while loop and display the sum of all the numbers."
   ]
  },
  {
   "cell_type": "code",
   "execution_count": 23,
   "id": "81de6eb8-d9fb-456f-84ed-25dbece221b6",
   "metadata": {},
   "outputs": [
    {
     "name": "stdin",
     "output_type": "stream",
     "text": [
      "Enter a number (enter 0 to stop): 123\n",
      "Enter a number (enter 0 to stop): 321\n",
      "Enter a number (enter 0 to stop): 456\n",
      "Enter a number (enter 0 to stop): 654\n",
      "Enter a number (enter 0 to stop): 0\n"
     ]
    },
    {
     "name": "stdout",
     "output_type": "stream",
     "text": [
      "The sum of all the number is: 1554\n"
     ]
    }
   ],
   "source": [
    "total_sum = 0\n",
    "while True:\n",
    "    num = int(input(\"Enter a number (enter 0 to stop):\"))\n",
    "    if num == 0:\n",
    "        break \n",
    "    total_sum += num\n",
    "print(f\"The sum of all the number is: {total_sum}\")"
   ]
  },
  {
   "cell_type": "code",
   "execution_count": null,
   "id": "f1cd49ae-9e50-4448-94a4-9bebbdcc4dcc",
   "metadata": {},
   "outputs": [],
   "source": []
  },
  {
   "cell_type": "code",
   "execution_count": null,
   "id": "935ab960-c036-415f-aeb7-647106730d73",
   "metadata": {},
   "outputs": [],
   "source": []
  }
 ],
 "metadata": {
  "kernelspec": {
   "display_name": "Python 3 (ipykernel)",
   "language": "python",
   "name": "python3"
  },
  "language_info": {
   "codemirror_mode": {
    "name": "ipython",
    "version": 3
   },
   "file_extension": ".py",
   "mimetype": "text/x-python",
   "name": "python",
   "nbconvert_exporter": "python",
   "pygments_lexer": "ipython3",
   "version": "3.11.7"
  }
 },
 "nbformat": 4,
 "nbformat_minor": 5
}
