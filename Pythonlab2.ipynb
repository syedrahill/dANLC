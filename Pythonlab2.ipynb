{
 "cells": [
  {
   "cell_type": "code",
   "execution_count": 1,
   "id": "86ba0ba6-9dff-4aba-b6c3-8e0b038dd96f",
   "metadata": {},
   "outputs": [],
   "source": [
    "# Q1 : Write a program to check whether a number is negative, positive or zero."
   ]
  },
  {
   "cell_type": "code",
   "execution_count": 6,
   "id": "4d41a70c-d9f8-429d-9860-d889c36773fe",
   "metadata": {},
   "outputs": [
    {
     "name": "stdin",
     "output_type": "stream",
     "text": [
      "enter a number: 77\n"
     ]
    },
    {
     "name": "stdout",
     "output_type": "stream",
     "text": [
      "The number is positive\n"
     ]
    }
   ],
   "source": [
    "number=float(input(\"enter a number:\"))\n",
    "\n",
    "if number >0:\n",
    "    print (\"The number is positive\")\n",
    "elif number <0:\n",
    "    print(\"The number is negative\")\n",
    "else :\n",
    "    print(\"The number is zero\")"
   ]
  },
  {
   "cell_type": "code",
   "execution_count": 7,
   "id": "7ebd484d-083f-4392-b985-33b8f8c455ec",
   "metadata": {},
   "outputs": [],
   "source": [
    "# Q2 : Write a program to check whether a character is vowel or not."
   ]
  },
  {
   "cell_type": "code",
   "execution_count": 11,
   "id": "527a010a-5855-4504-869c-4aa69178379d",
   "metadata": {},
   "outputs": [
    {
     "name": "stdin",
     "output_type": "stream",
     "text": [
      "Enter a character: b\n"
     ]
    },
    {
     "name": "stdout",
     "output_type": "stream",
     "text": [
      "It is not a vowel\n"
     ]
    }
   ],
   "source": [
    "a = input(\"Enter a character:\")\n",
    "vowels = \"aeiou\"\n",
    "if a in vowels:\n",
    "    print(\"It is a vowel\")\n",
    "else:\n",
    "    print(\"It is not a vowel\")"
   ]
  },
  {
   "cell_type": "code",
   "execution_count": 14,
   "id": "339531dd-7462-48da-b644-a0b872c596e0",
   "metadata": {},
   "outputs": [],
   "source": [
    "# Q3 : Write a program to assign grades according to the given marks:- 85 to 100  : A Grade 70 to 85   : B Grade 60 to 70   : C Grade 50 to 60   : D Grade <50        : Fail"
   ]
  },
  {
   "cell_type": "code",
   "execution_count": 15,
   "id": "dec40d36-5041-42b1-9c64-9fc85e2dee4e",
   "metadata": {},
   "outputs": [
    {
     "name": "stdin",
     "output_type": "stream",
     "text": [
      "enter the marks: 95\n"
     ]
    },
    {
     "name": "stdout",
     "output_type": "stream",
     "text": [
      "A Grade\n"
     ]
    }
   ],
   "source": [
    "marks = int(input (\"enter the marks:\"))\n",
    "\n",
    "if 85<=marks <=100:\n",
    "    print (\"A Grade\")\n",
    "elif 70<=marks <=85:\n",
    "    print(\"B Grade\")\n",
    "elif 60<=marks <=70:\n",
    "    print(\"C Grade\")\n",
    "elif 50<=marks <=60:\n",
    "    print(\"D Grade\")\n",
    "else:\n",
    "    print(\"Fail\")"
   ]
  },
  {
   "cell_type": "code",
   "execution_count": 16,
   "id": "4bfb888a-2589-4674-995c-ceb45252c504",
   "metadata": {},
   "outputs": [],
   "source": [
    "# Q4. : Write a program to check weather a triangle is isosceles , equilateral or not."
   ]
  },
  {
   "cell_type": "code",
   "execution_count": 18,
   "id": "87cb3a1f-7be6-4692-898e-059c4f55c0a6",
   "metadata": {},
   "outputs": [
    {
     "name": "stdin",
     "output_type": "stream",
     "text": [
      "enter the side a: 60\n",
      "enter the side b: 60\n",
      "enter the side c: 60\n"
     ]
    },
    {
     "name": "stdout",
     "output_type": "stream",
     "text": [
      "equilateral triangle\n"
     ]
    }
   ],
   "source": [
    "a = int(input(\"enter the side a:\"))\n",
    "b = int(input(\"enter the side b:\"))\n",
    "c = int(input(\"enter the side c:\"))\n",
    "\n",
    "#equilateral all sides equal\n",
    "if a==b==c:\n",
    "    print(\"equilateral triangle\")\n",
    "#isosceles two sides equal\n",
    "elif a==b or b==c or c==a:\n",
    "    print (\"isosceles triangle\")\n",
    "else:\n",
    "    print(\"scalene triangle\")\n",
    "        "
   ]
  },
  {
   "cell_type": "code",
   "execution_count": 19,
   "id": "b9e80116-646d-4c36-9adc-772ce3a17370",
   "metadata": {},
   "outputs": [],
   "source": [
    "# Q5. Write a program to check whether an year is century year or not."
   ]
  },
  {
   "cell_type": "code",
   "execution_count": 20,
   "id": "1304ce49-0e18-459b-9047-6b458d381475",
   "metadata": {},
   "outputs": [
    {
     "name": "stdin",
     "output_type": "stream",
     "text": [
      "Enter the year: 140\n"
     ]
    },
    {
     "name": "stdout",
     "output_type": "stream",
     "text": [
      "It is not a century year\n"
     ]
    }
   ],
   "source": [
    "# Century year is the year ends with 00(Last year of century)\n",
    "year = int (input(\"Enter the year:\"))\n",
    "\n",
    "if year%100==0:\n",
    "    print(\"It is a century year\")\n",
    "else :\n",
    "    print(\"It is not a century year\")"
   ]
  },
  {
   "cell_type": "code",
   "execution_count": 21,
   "id": "0f206d08-641a-47f5-8f84-9c0208bb3807",
   "metadata": {},
   "outputs": [],
   "source": [
    "# Q6. Write a program to input two numbers and check whether second number is multiple of first number or not."
   ]
  },
  {
   "cell_type": "code",
   "execution_count": 22,
   "id": "626f296c-68b6-4506-8aef-2619000ae77b",
   "metadata": {},
   "outputs": [
    {
     "name": "stdin",
     "output_type": "stream",
     "text": [
      "enter the number a: 44\n",
      "enter the number b: 2\n"
     ]
    },
    {
     "name": "stdout",
     "output_type": "stream",
     "text": [
      "b is not a multiple of a\n"
     ]
    }
   ],
   "source": [
    "a = int (input(\"enter the number a:\"))\n",
    "b = int (input(\"enter the number b:\"))\n",
    "\n",
    "if b%a==0:\n",
    "    print(\"b is multiple of a\")\n",
    "else:\n",
    "    print(\"b is not a multiple of a\")"
   ]
  },
  {
   "cell_type": "code",
   "execution_count": 23,
   "id": "a633cad5-cbca-4558-9f84-6d7cd8d52516",
   "metadata": {},
   "outputs": [],
   "source": [
    "# Q7. Write a program to convert an upper case character into lower case if it is in upper case. "
   ]
  },
  {
   "cell_type": "code",
   "execution_count": 24,
   "id": "c45e1460-ef26-4646-97de-93947015b4b5",
   "metadata": {},
   "outputs": [
    {
     "name": "stdin",
     "output_type": "stream",
     "text": [
      "enter a character: a\n"
     ]
    },
    {
     "name": "stdout",
     "output_type": "stream",
     "text": [
      "The character is not in the uppercase\n"
     ]
    }
   ],
   "source": [
    "char=input(\"enter a character:\")\n",
    "if'A'<=char<='Z':\n",
    "    print(\"Character is in uppercase\")\n",
    "    print(\"Lowercase:\",char.lower())\n",
    "else:\n",
    "    print(\"The character is not in the uppercase\")"
   ]
  },
  {
   "cell_type": "code",
   "execution_count": 26,
   "id": "ad7bb378-afa8-4eb1-a62b-d25545ae9a2b",
   "metadata": {},
   "outputs": [],
   "source": [
    "# Q8. : Write a program to provide the following options to the user who is using the console in the banking system. This console should be available to the user if he enters correct id and password.1. check balance2. Withdraw amount3. deposit amount4. change phone number5. change password\"\"\""
   ]
  },
  {
   "cell_type": "code",
   "execution_count": 30,
   "id": "d76af7ca-92df-413d-988b-78f3afb8408c",
   "metadata": {},
   "outputs": [
    {
     "name": "stdin",
     "output_type": "stream",
     "text": [
      "Enter Your User Id :  rahil@gmail.com\n",
      "Enter Your Password :  9192939495969798999\n"
     ]
    },
    {
     "name": "stdout",
     "output_type": "stream",
     "text": [
      "Login Successful!!\n",
      "1. Check Balance\n",
      "2. Withdraw Amount\n",
      "3. Deposit Amount\n",
      "4. Update Phone Number\n",
      "5. Update Password\n",
      "6. Exit\n"
     ]
    },
    {
     "name": "stdin",
     "output_type": "stream",
     "text": [
      "Enter your choice :  6\n"
     ]
    },
    {
     "name": "stdout",
     "output_type": "stream",
     "text": [
      "GoodBye \n",
      " Have A Nice Day!!\n"
     ]
    }
   ],
   "source": [
    "# declare variables for the client\n",
    "from random import choice\n",
    "\n",
    "userid = \"rahil@gmail.com\"\n",
    "passwd = \"9192939495969798999\"\n",
    "ph = 8969553322\n",
    "balance = 1000000.6445\n",
    "\n",
    "# input user id and password from user and verify it\n",
    "uid = input(\"Enter Your User Id : \")\n",
    "pwd = input(\"Enter Your Password : \")\n",
    "\n",
    "if uid==userid and pwd == passwd:\n",
    "    print(\"Login Successful!!\")\n",
    "#     now provide options to the user to choose from\n",
    "    while choice!=6:\n",
    "        print(\"1. Check Balance\")\n",
    "        print(\"2. Withdraw Amount\")\n",
    "        print(\"3. Deposit Amount\")\n",
    "        print(\"4. Update Phone Number\")\n",
    "        print(\"5. Update Password\")\n",
    "        print(\"6. Exit\")\n",
    "        choice = int(input(\"Enter your choice : \"))\n",
    "        if choice == 1:\n",
    "            print(f\"Your Account Balance is Rs. {balance}\")\n",
    "        elif choice == 2:\n",
    "            amt = float(input(\"Enter Amount to Withdraw : \"))\n",
    "            if amt > balance:\n",
    "                print(\"Insufficient Balance!!\")\n",
    "            else:\n",
    "                balance = balance - amt\n",
    "                print(f\"Amount of Rs. {amt} successfully withdrawn from tha account\")\n",
    "                print(f\"Remaining balance is Rs. {balance}\")\n",
    "        elif choice == 3:\n",
    "            amt = float(input(\"Enter Amount to Deposit : \"))\n",
    "            balance = balance + amt\n",
    "            print(f\"Amount of Rs. {amt} is successfully Deposited in the account\")\n",
    "            print(f\"New Balance of Account is Rs. {balance}\")\n",
    "        elif choice == 4:\n",
    "            pd = input(\"Enter your password : \")\n",
    "            if pd == passwd:\n",
    "                ph1 = int(input(\"Enter New Mobile Number : \"))\n",
    "                ph2 = int(input(\"Retype Mobile Number : \"))\n",
    "                if ph1 == ph2:\n",
    "                    ph = ph1\n",
    "                    print(\"Mobile Number Successfully Updated!!\")\n",
    "                else:\n",
    "                    print(\"New Mobile Number does not match the Retype Mobile Number\")\n",
    "            else:\n",
    "                print(\"Incorrect Password!! Try Again Later!!\")\n",
    "        elif choice == 5:\n",
    "            pd = input(\"Enter your password : \")\n",
    "            if pd == passwd:\n",
    "                pd1 = int(input(\"Enter New Password : \"))\n",
    "                pd2 = int(input(\"Retype Password : \"))\n",
    "                if pd1 == pd2:\n",
    "                    passwd = pd1\n",
    "                    print(\"Password Successfully Updated!!\")\n",
    "                else:\n",
    "                    print(\"New Password does not match the Retype Password\")\n",
    "            else:\n",
    "                print(\"Incorrect Password!! Try Again Later!!\")\n",
    "        elif choice == 6:\n",
    "            print(\"GoodBye \\n Have A Nice Day!!\")\n",
    "        else:\n",
    "            print(\"Wrong choice Selected!!\")\n",
    "else:\n",
    "    print(\"Either Id or Password is Incorrect!!\")"
   ]
  },
  {
   "cell_type": "code",
   "execution_count": null,
   "id": "04aadf8b-1dbd-4a31-bbd8-910f3be9d613",
   "metadata": {},
   "outputs": [],
   "source": []
  }
 ],
 "metadata": {
  "kernelspec": {
   "display_name": "Python 3 (ipykernel)",
   "language": "python",
   "name": "python3"
  },
  "language_info": {
   "codemirror_mode": {
    "name": "ipython",
    "version": 3
   },
   "file_extension": ".py",
   "mimetype": "text/x-python",
   "name": "python",
   "nbconvert_exporter": "python",
   "pygments_lexer": "ipython3",
   "version": "3.11.7"
  }
 },
 "nbformat": 4,
 "nbformat_minor": 5
}
