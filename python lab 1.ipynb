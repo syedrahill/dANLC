{
 "cells": [
  {
   "cell_type": "code",
   "execution_count": 1,
   "id": "3fb765fe-ff9d-48f1-b06f-586c76b8c02a",
   "metadata": {},
   "outputs": [
    {
     "name": "stdout",
     "output_type": "stream",
     "text": [
      "Hello World\n"
     ]
    }
   ],
   "source": [
    "print (\"Hello World\")"
   ]
  },
  {
   "cell_type": "code",
   "execution_count": 2,
   "id": "68db0424-78ae-4530-acbd-72f134a0aba2",
   "metadata": {},
   "outputs": [],
   "source": [
    "# Q.2 Describe Local Variable and Global Variable Code\n",
    "# Global Variable : A variable declared outside of any function or block. It can be accessed anywhere in the program.\n",
    "# Local Variable : A variable declared inside a function or block. It is accessible only within that function or block."
   ]
  },
  {
   "cell_type": "code",
   "execution_count": 3,
   "id": "e1f64107-94cc-4ba9-ab0f-97d4eb0d16c1",
   "metadata": {},
   "outputs": [
    {
     "name": "stdout",
     "output_type": "stream",
     "text": [
      "I am a local variable\n",
      "I am a global variable\n",
      "I am a global variable\n"
     ]
    }
   ],
   "source": [
    "# Global variable\n",
    "global_var = \"I am a global variable\"\n",
    "\n",
    "def my_function():\n",
    "    # Local variable\n",
    "    local_var = \"I am a local variable\"\n",
    "    print(local_var)  # Accessible here\n",
    "    print(global_var)  # Global variable is also accessible here\n",
    "\n",
    "my_function()\n",
    "\n",
    "# print(local_var)  # This will throw an error because local_var is not accessible outside the function\n",
    "print(global_var)  # Accessible here"
   ]
  },
  {
   "cell_type": "code",
   "execution_count": 4,
   "id": "d2936197-f1fd-41ec-bd16-29403e6144db",
   "metadata": {},
   "outputs": [
    {
     "name": "stdout",
     "output_type": "stream",
     "text": [
      "Local variable: 50\n",
      "Global variable: 25\n"
     ]
    }
   ],
   "source": [
    "x = 25  # Global variable\n",
    "\n",
    "def my_function():\n",
    "    x = 50  # Local variable\n",
    "    print(\"Local variable:\", x)\n",
    "\n",
    "my_function()\n",
    "print(\"Global variable:\", x)"
   ]
  },
  {
   "cell_type": "code",
   "execution_count": 5,
   "id": "83577f9b-3e59-4c2f-b262-7724abc7189c",
   "metadata": {},
   "outputs": [],
   "source": [
    "# Q.3 Write a Code That Describes Indentation Error\n",
    "# Indentation errors occur when Python code does not follow proper indentation rules, which are crucial for defining blocks of code (e.g., inside functions, loops, or conditionals)."
   ]
  },
  {
   "cell_type": "code",
   "execution_count": 11,
   "id": "6035f165-9520-422d-a51f-ffd4dd70b189",
   "metadata": {},
   "outputs": [
    {
     "ename": "IndentationError",
     "evalue": "expected an indented block after function definition on line 1 (1419177151.py, line 2)",
     "output_type": "error",
     "traceback": [
      "\u001b[1;36m  Cell \u001b[1;32mIn[11], line 2\u001b[1;36m\u001b[0m\n\u001b[1;33m    print(\"Hello World\")  # This line is not indented properly\u001b[0m\n\u001b[1;37m    ^\u001b[0m\n\u001b[1;31mIndentationError\u001b[0m\u001b[1;31m:\u001b[0m expected an indented block after function definition on line 1\n"
     ]
    }
   ],
   "source": [
    "def my_function():\n",
    "print(\"Hello World\")  # This line is not indented properly\n",
    "\n",
    "my_function()"
   ]
  },
  {
   "cell_type": "code",
   "execution_count": 7,
   "id": "1acd6d49-5fb3-4800-a740-317fc0b63aec",
   "metadata": {},
   "outputs": [],
   "source": [
    "# Q.4 Write a Code That Describes Local and Global Variable With the Same Name\n",
    "# If a local variable has the same name as a global variable, the local variable takes precedence within its scope. Outside the function, the global variable remains unaffected."
   ]
  },
  {
   "cell_type": "code",
   "execution_count": 15,
   "id": "34e4b6c8-40a2-4abf-bcba-ae056e34faec",
   "metadata": {},
   "outputs": [
    {
     "name": "stdout",
     "output_type": "stream",
     "text": [
      "Inside Function: Local Variable\n",
      "Outside Function: Global Variable\n"
     ]
    }
   ],
   "source": [
    "x = \"Global Variable\"\n",
    "\n",
    "def my_function():\n",
    "    x = \"Local Variable\"\n",
    "    print(\"Inside Function:\", x)\n",
    "\n",
    "my_function()\n",
    "print(\"Outside Function:\", x)"
   ]
  },
  {
   "cell_type": "code",
   "execution_count": 12,
   "id": "62e6487d-229b-4f6b-a6ec-fe3e4df7e9ff",
   "metadata": {},
   "outputs": [],
   "source": [
    "# Q.5 Write a Code for String, Int, and Float Input in Jupyter Notebook\n",
    "# In Python, you can use the input() function to take user input. By default, all inputs are treated as strings."
   ]
  },
  {
   "cell_type": "code",
   "execution_count": 18,
   "id": "60759147-08f0-4667-a6bc-15e39df0883d",
   "metadata": {},
   "outputs": [
    {
     "name": "stdin",
     "output_type": "stream",
     "text": [
      "Enter your name:  Syed Rahil\n",
      "Enter your age:  22\n",
      "Enter your height:  5.11\n"
     ]
    },
    {
     "name": "stdout",
     "output_type": "stream",
     "text": [
      "\n",
      "You entered:\n",
      "Name: Syed Rahil\n",
      "Age: 22\n",
      "Height: 5.11\n"
     ]
    }
   ],
   "source": [
    "# Taking string input\n",
    "string_input = input(\"Enter your name: \")\n",
    "\n",
    "# Taking integer input\n",
    "int_input = int(input(\"Enter your age: \"))\n",
    "\n",
    "# Taking float input\n",
    "float_input = float(input(\"Enter your height: \"))\n",
    "\n",
    "print(\"\\nYou entered:\")\n",
    "print(\"Name:\", string_input)\n",
    "print(\"Age:\", int_input)\n",
    "print(\"Height:\", float_input)"
   ]
  },
  {
   "cell_type": "markdown",
   "id": "b1a491d1-03c9-427c-91a8-1ac911982edd",
   "metadata": {},
   "source": []
  }
 ],
 "metadata": {
  "kernelspec": {
   "display_name": "Python 3 (ipykernel)",
   "language": "python",
   "name": "python3"
  },
  "language_info": {
   "codemirror_mode": {
    "name": "ipython",
    "version": 3
   },
   "file_extension": ".py",
   "mimetype": "text/x-python",
   "name": "python",
   "nbconvert_exporter": "python",
   "pygments_lexer": "ipython3",
   "version": "3.11.7"
  }
 },
 "nbformat": 4,
 "nbformat_minor": 5
}
